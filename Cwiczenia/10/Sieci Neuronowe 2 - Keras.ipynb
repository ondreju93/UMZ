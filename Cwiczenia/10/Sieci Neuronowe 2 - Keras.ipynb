{
 "cells": [
  {
   "cell_type": "markdown",
   "metadata": {},
   "source": [
    "# Wielowarstwowe sieci neuronowe\n",
    "## Uczenie za pomocą gotowych pakietów\n",
    "\n",
    "Będziemy dziś korzystać z zaawansowanego pakietu do sieci neuronowych \"Keras\". \n",
    "\n",
    "### Instalacja\n",
    "* Pod Windowsem powinno być wszystko zainstalowane.\n",
    "* Pod Linuxem można zainstalować lokalnie:\n",
    "        pip install --user keras\n",
    "* Lub na własnym komputerze:\n",
    "        sudo pip install keras\n",
    "* Możliwe, że konieczne jest ponowne uruchomienie IPython, jeśli był uruchomiony podczas instalacji.\n",
    "\n",
    "### Dokumentacja\n",
    "* Dosyć pełna i obszerna dokumentacja na: http://keras.io\n",
    "* Pomocne przykłady na: https://github.com/fchollet/keras/tree/master/examples (zaawansowane)\n",
    "* Szczególnie przykład: mnist_mlp.py\n",
    "* ***Uwaga:*** pierwsze uruchomienie zazwyczaj trwa jakiś czas, ponieważ pod spodem model kompiluje się jako aplikacja w C++. \n",
    "\n",
    "### Zadania\n",
    "\n",
    "#### MNIST\n",
    "1. Uruchom przykład mnist_mlp.py, warto ew. zmienić liczbę epok do 5\n",
    "**Odpowiedź:**\n",
    "Uruchomiłem przykład mnist_mlp.py z domyślną liczbą epok (20).\n",
    "W po ostatniej epoce udało się uzyskać dokładność \n",
    "\n",
    "1. Przeanalizuj kod za pomocą dokumentacji oraz innych źródeł w internecie i opisz w notebooku:\n",
    "    1. Do jakiej postaci autorzy przykładu sprowadzają dane Y_train i Y_test?  \n",
    "    **Odpowiedź:**\n",
    "    Autorzy sprowadzają dane Y_train i Y_test do macierzy zer i jedynek.\n",
    "    Funkcja to_categorical zamienia wektor jednowymiarowy (\"płaski\") na macierz z liczbą kolumn taką ile jest klas w drugim parametrze (w naszym przypadku podajemy tam zmienną nb_classes o wartości 10 - w problemie MNIST mamy 10 klas)\n",
    "    \n",
    "    1. Przedstaw wzór matematyczny na funkcję błędu (pojawiła się na wykładzie)  \n",
    "    **Odpowiedź:**\n",
    "    Wieloklasowa funkcja kosztu $J(\\Theta)$ (kategorialna entropia krzyżowa):\n",
    "    $$ J(\\Theta) = -\\frac{1}{m}\\sum_{i=1}^{m}\\sum_{k=1}^{c} \\delta({y^{(i)},k}) \\log P(k|x^{(i)},\\Theta) $$\n",
    "\n",
    "    1. Ile warstw ma przykładowy model, jakie są rozmiary macierzy odpowiednich wag. Czy można uzyskać dostęp do tych wag?  \n",
    "    **Odpowiedź:**  \n",
    "    Przykładowy model ma 5 warstw (nie liczę warstw Activation)  \n",
    "    \n",
    "    1. Jakie funkcje aktywacji użyto? Podaj ich wzory, dla RELU stwórz wykres.\n",
    "    1. Co to jest Dropout? Czemu służy? Jakie znaczenie ma parametr?\n",
    "1. Zmodyfikuj model:\n",
    "    1. Usuń warstwy Dropout, jaki jest efekt?\n",
    "    1. Stwórz model odpowiadający 10-klasowej regresji logistycznej (omówiony na wykładzie): jaka jest jakość?\n",
    "    1. Stwórz 6-cio warstwowy model o rozmiarach warstw 2500, 2000, 1500, 1000, 500 oraz 10 bez Dropout, użyj wszędzie funkcji aktywacji `tanh` z wyjątkiem ostatniej warstwy, gdzie należy użyć `softmax`. Trenuj model przez 10 epok.\n",
    "    1. Dodaj warstwy Dropout, porownaj jakość po 10 epokach. \n",
    "    1. Zamiast RMSprop użyj algorytm Adagrad, porównaj jakość. \n",
    "\n",
    "#### XOR\n",
    "1. Pokaż, że jednowarstowa sieć (z jednym neuronem z sigmoidalną funkcją aktywacji) nie potrafi nauczyć się funkcji XOR ale za to AND i OR. Wykorzystaj funkcję model.predict(...). Przyjmyj, że wartości &le;0.1 to 0 oraz wartości &ge;0.9 to 1. Jaka funkcja blędu wydaję sie własciwa?\n",
    "2. Pokaż, że dwuwarstowy perceptron potrafi nauczyć się funkcji XOR. Wykorzystując model typu `Graph`, zbuduj następującą sieć:\n",
    "        x1 -> nh\n",
    "        x2 -> nh\n",
    "        x1 -> no\n",
    "        x2 -> no\n",
    "        nh -> no\n",
    "Gdzie `x1` i `x2` to wejscia, `nh` to neuron ukryty, `no` to neuron wyjściowy. Zwróc uwagę, że połączenia wychodzą poza warstwy. Właściwym trybem łączenia wejść do neuronu wyjściowego to `merge_mode='concat'` (skleja wyjścia poprzednich warstw podanych w `inputs=[w1, w2]` w jeden ciąg). \n",
    "3. **Uwaga**: Konieczna jest duża liczba epok, ok. 10000. Zbior trenujący to tylko 4 przykłady, zatem to pójdzie szybko. "
   ]
  },
  {
   "cell_type": "code",
   "execution_count": null,
   "metadata": {
    "collapsed": false
   },
   "outputs": [],
   "source": []
  }
 ],
 "metadata": {
  "kernelspec": {
   "display_name": "Python 2",
   "language": "python",
   "name": "python2"
  },
  "language_info": {
   "codemirror_mode": {
    "name": "ipython",
    "version": 2
   },
   "file_extension": ".py",
   "mimetype": "text/x-python",
   "name": "python",
   "nbconvert_exporter": "python",
   "pygments_lexer": "ipython2",
   "version": "2.7.9"
  }
 },
 "nbformat": 4,
 "nbformat_minor": 0
}
