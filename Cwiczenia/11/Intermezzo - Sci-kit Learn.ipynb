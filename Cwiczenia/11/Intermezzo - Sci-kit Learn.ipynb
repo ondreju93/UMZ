{
 "cells": [
  {
   "cell_type": "markdown",
   "metadata": {},
   "source": [
    "# Intermezzo: Sci-kit learn\n",
    "\n",
    "## Uczenie za pomocą gotowych pakietów\n",
    "\n",
    "Będziemy dziś korzystać z zaawansowanego pakietu do sieci neuronowych \"Keras\". \n",
    "\n",
    "### Instalacja\n",
    "* Pod Windowsem powinna być zainstalowana wersja 0.16.\n",
    "* Pod Linuxem powinna być zainstalowana wersja 0.15.\n",
    "* Najnowsza oficjalna wersja to 0.17 (0.18 na githubie w wersji deweloperskiej)\n",
    "\n",
    "* Pod Linuxem można zainstalować lokalnie:\n",
    "        pip install --user sklearn\n",
    "* Lub na własnym komputerze:\n",
    "        sudo pip install sklearn\n",
    "* Możliwe, że konieczne jest ponowne uruchomienie IPython, jeśli był uruchomiony podczas instalacji.\n",
    "\n",
    "### Dokumentacja\n",
    "* Pełna i obszerna dokumentacja na: http://scikit-learn.org/0.15 (wystarczy zmienić numer wersji zgodnie z zainstalowaną wersją, aby przejść do dokumentów dla odpowiedniej wersji)\n",
    "\n",
    "### Zadania teoretyczne\n",
    "* Zapoznaj się z pakietem Sci-Kit learn na podstawie dokumentacji. \n",
    "* Przeglądając spis API (http://scikit-learn.org/0.15/modules/classes.html), podaj listę dostępnych rodzajów klasyfikatorów i regresorów. Które metody poznaliśmy na wykładach? Które są nowe?\n",
    "* Jakie inne tematy widzisz (niż klasyifikacja/regresja), które były omawiane na wykładach?\n",
    "\n",
    "### Zadanie praktyczne\n",
    "* Opracuj tutorial http://scikit-learn.org/0.15/tutorial/text_analytics/working_with_text_data.html w IPython Notebook (do wykonania w tym tygodniu do najbliższych ćwiczeń) \n",
    "\n",
    "Powyższe zadania są punktowane razem na 40 punktów.\n",
    "\n",
    "### Zadania na te i następne ćwiczenia\n",
    "* Opracuj zadanie Exercise 1 lub Exercise 2 (do wyboru) na za dwa tygodnie w postaci IPython Notebook. \n",
    "* Będzie można też pracować przy tym na najbliszych ćwiczeniach.\n",
    "* Wymagania:\n",
    "    * Dane do tych zadań trzeba zdobyć samodzielnie. Dopuszczam dzielenie się danymi, jeśli ktoś już coś opracował/znalazł.\n",
    "    * Wybierz i sprawdź co najmiej cztery różne rodzaje klasyfikatorów/regresorów, z tego co najmniej dwa, który nie były dotąd omawiane na ćwiczeniach (np. SVM, Naiwny Bayes) lub wykładach (drzewa decyzyjne).\n",
    "    * Zawsze wykonaj walidacje krzyżową (5-krotną) i przedstaw wyniki. \n",
    "    * Dodatkowe: Spróbuj wykonać optymalizację hiperparamtrów za pomocą GridSearch lub RandomSearch. Pomogło?\n",
    "\n",
    "To zadanie będzie warte 40 punktów z następnych ćwiczeń + 20 punktów za szczególnie ładne opracowania.\n"
   ]
  },
  {
   "cell_type": "markdown",
   "metadata": {
    "collapsed": false
   },
   "source": [
    "## Rozwiązania\n",
    "### Zadania teoretyczne\n",
    "API *Sci-Kit learn* udostępnia zestaw regresorów, klasyfikatorów, algorytmów klastrowania, funkcji narzędziowych i zbiorów dancyh. W zestawie znajduje się także część metod przedstawianych na wykładzie z UMZ. Między innymi są to:\n",
    "- Naiwny klasyfikator Bayesa\n",
    "- Regresor liniowy\n",
    "- Regresor logistyczny (wersja jedno i wielo wymiarowa)\n",
    "- Klastrowanie metodą k-średnich\n",
    "\n"
   ]
  },
  {
   "cell_type": "markdown",
   "metadata": {
    "collapsed": true
   },
   "source": [
    "Oprócz powyższych, pakiet zawiera jeszcze dużo modułów do klastrowania danych, oraz do obliczeń statystycznych"
   ]
  },
  {
   "cell_type": "markdown",
   "metadata": {},
   "source": [
    "### Zadania praktyczne - opracowanie tutorialu"
   ]
  },
  {
   "cell_type": "code",
   "execution_count": 3,
   "metadata": {
    "collapsed": false
   },
   "outputs": [],
   "source": [
    "categories = ['alt.atheism', 'soc.religion.christian', 'comp.graphics', 'sci.med']"
   ]
  },
  {
   "cell_type": "code",
   "execution_count": 11,
   "metadata": {
    "collapsed": false
   },
   "outputs": [
    {
     "data": {
      "text/plain": [
       "['alt.atheism', 'comp.graphics', 'sci.med', 'soc.religion.christian']"
      ]
     },
     "execution_count": 11,
     "metadata": {},
     "output_type": "execute_result"
    }
   ],
   "source": [
    "from sklearn.datasets import fetch_20newsgroups\n",
    "twenty_train = fetch_20newsgroups(subset='train', categories=categories, shuffle=True, random_state=42)\n",
    "# twenty_train to dataset typu \"bunch\" - składowe mogą być utrzymywane jak ze słownika lub przez notację obiektową\n",
    "\n",
    "# Przykłąd - pokazuję kategorie artykułów/\n",
    "twenty_train.target_names"
   ]
  },
  {
   "cell_type": "code",
   "execution_count": 13,
   "metadata": {
    "collapsed": false
   },
   "outputs": [
    {
     "name": "stdout",
     "output_type": "stream",
     "text": [
      "2257\n",
      "2257\n"
     ]
    }
   ],
   "source": [
    "# rozmiar danych\n",
    "print len(twenty_train.data)\n",
    "print len(twenty_train.filenames)"
   ]
  },
  {
   "cell_type": "code",
   "execution_count": 20,
   "metadata": {
    "collapsed": false
   },
   "outputs": [
    {
     "name": "stdout",
     "output_type": "stream",
     "text": [
      "From: sd345@city.ac.uk (Michael Collier)\n",
      "Subject: Converting images to HP LaserJet III?\n",
      "Nntp-Posting-Host: hampton\n",
      "Organization: The City University\n",
      "Lines: 14\n"
     ]
    }
   ],
   "source": [
    "# 5 pierwszych linii pierwszego artukułu na liście\n",
    "print(\"\\n\".join(twenty_train.data[0].split(\"\\n\")[:5]))"
   ]
  },
  {
   "cell_type": "code",
   "execution_count": 21,
   "metadata": {
    "collapsed": false
   },
   "outputs": [
    {
     "name": "stdout",
     "output_type": "stream",
     "text": [
      "comp.graphics\n"
     ]
    }
   ],
   "source": [
    "# kategoria pierwszego artukułu na liście\n",
    "print(twenty_train.target_names[twenty_train.target[0]])"
   ]
  },
  {
   "cell_type": "code",
   "execution_count": 24,
   "metadata": {
    "collapsed": false
   },
   "outputs": [
    {
     "data": {
      "text/plain": [
       "(2257, 35788)"
      ]
     },
     "execution_count": 24,
     "metadata": {},
     "output_type": "execute_result"
    }
   ],
   "source": [
    "#Worki słów\n",
    "from sklearn.feature_extraction.text import CountVectorizer\n",
    "count_vect = CountVectorizer()\n",
    "X_train_counts = count_vect.fit_transform(twenty_train.data)\n",
    "X_train_counts.shape"
   ]
  },
  {
   "cell_type": "code",
   "execution_count": 27,
   "metadata": {
    "collapsed": false
   },
   "outputs": [
    {
     "data": {
      "text/plain": [
       "6426"
      ]
     },
     "execution_count": 27,
     "metadata": {},
     "output_type": "execute_result"
    }
   ],
   "source": [
    "# Obiekty klasy CountVectorizer umożliwiają tworzenie N-gramów dla wybranych słów\n",
    "count_vect.vocabulary_.get(u'belief') # licznik wystąpień"
   ]
  },
  {
   "cell_type": "code",
   "execution_count": 29,
   "metadata": {
    "collapsed": false
   },
   "outputs": [
    {
     "data": {
      "text/plain": [
       "(2257, 35788)"
      ]
     },
     "execution_count": 29,
     "metadata": {},
     "output_type": "execute_result"
    }
   ],
   "source": [
    "# Znacznie lepszą miarą od liczby wystąpień jest częstość - miara uwzględniająca liczbę słów w dokumencie\n",
    "# policzymy częstość za pomocą obiektu TfidTransformer\n",
    "from sklearn.feature_extraction.text import TfidfTransformer\n",
    "tf_transformer = TfidfTransformer(use_idf=False).fit(X_train_counts)\n",
    "X_train_tf = tf_transformer.transform(X_train_counts)\n",
    "X_train_tf.shape"
   ]
  },
  {
   "cell_type": "code",
   "execution_count": 32,
   "metadata": {
    "collapsed": false
   },
   "outputs": [],
   "source": [
    "# liczba wystąpień słów oraz częstość słów mogą być cechami\n",
    "# poniżej o tym jak zbudować prosty model klasyfikacji na podstawie takich cech\n",
    "# Będziemy korzystać z klasyfikatora Bayesowskiego\n",
    "from sklearn.naive_bayes import MultinomialNB\n",
    "clf = MultinomialNB().fit(X_train_tf, twenty_train.target)"
   ]
  },
  {
   "cell_type": "code",
   "execution_count": 33,
   "metadata": {
    "collapsed": false
   },
   "outputs": [
    {
     "name": "stdout",
     "output_type": "stream",
     "text": [
      "'God is almighty' => soc.religion.christian\n",
      "'OpenGL on the GPU is fast' => comp.graphics\n",
      "'Breast cancer' => sci.med\n"
     ]
    }
   ],
   "source": [
    "docs_new = ['God is almighty', 'OpenGL on the GPU is fast', 'Breast cancer']\n",
    "X_new_counts = count_vect.transform(docs_new)\n",
    "X_new_tfidf = tf_transformer.transform(X_new_counts)\n",
    "predicted = clf.predict(X_new_tfidf)\n",
    "for doc, category in zip(docs_new, predicted):\n",
    "    print('%r => %s' % (doc, twenty_train.target_names[category]))"
   ]
  },
  {
   "cell_type": "code",
   "execution_count": 40,
   "metadata": {
    "collapsed": true
   },
   "outputs": [],
   "source": [
    "#Pipeline\n",
    "from sklearn.pipeline import Pipeline\n",
    "text_clf = Pipeline([('vect', CountVectorizer()),\n",
    "                      ('tfidf', TfidfTransformer()),\n",
    "                      ('clf', MultinomialNB()),])\n",
    "\n",
    "# Trenowanie modelu jedną komendą - to co wcześniej\n",
    "text_clf = text_clf.fit(twenty_train.data, twenty_train.target)"
   ]
  },
  {
   "cell_type": "code",
   "execution_count": 46,
   "metadata": {
    "collapsed": false
   },
   "outputs": [
    {
     "name": "stdout",
     "output_type": "stream",
     "text": [
      "Accuracy fo Bayes classification  0.912782956059\n"
     ]
    }
   ],
   "source": [
    "# Ocena dopasowania modelu\n",
    "import numpy as np\n",
    "twenty_test = fetch_20newsgroups(subset='test', categories=categories, shuffle=True, random_state=42)\n",
    "docs_test = twenty_test.data\n",
    "predicted = text_clf.predict(docs_test)\n",
    "print \"Accuracy fo Bayes classification \", np.mean(predicted == twenty_test.target)   "
   ]
  },
  {
   "cell_type": "code",
   "execution_count": 45,
   "metadata": {
    "collapsed": false
   },
   "outputs": [
    {
     "name": "stdout",
     "output_type": "stream",
     "text": [
      "Accuracy for SVM classification  0.912782956059\n"
     ]
    }
   ],
   "source": [
    "# SUpport Vector Machines\n",
    "#Pipeline dla klasyfikatora opartego na SVM\n",
    "from sklearn.linear_model import SGDClassifier\n",
    "text_clf = Pipeline([('vect', CountVectorizer()),\n",
    "                      ('tfidf', TfidfTransformer()),\n",
    "                      ('clf', SGDClassifier(loss='hinge', penalty='l2',\n",
    "                                            alpha=1e-3, n_iter=5)),])\n",
    "_ = text_clf.fit(twenty_train.data, twenty_train.target)\n",
    "predicted = text_clf.predict(docs_test)\n",
    "print \"Accuracy for SVM classification \", np.mean(predicted == twenty_test.target)  "
   ]
  },
  {
   "cell_type": "code",
   "execution_count": 48,
   "metadata": {
    "collapsed": false,
    "scrolled": true
   },
   "outputs": [
    {
     "name": "stdout",
     "output_type": "stream",
     "text": [
      "                        precision    recall  f1-score   support\n",
      "\n",
      "           alt.atheism       0.96      0.80      0.87       319\n",
      "         comp.graphics       0.88      0.97      0.92       389\n",
      "               sci.med       0.94      0.90      0.92       396\n",
      "soc.religion.christian       0.89      0.96      0.92       398\n",
      "\n",
      "           avg / total       0.92      0.91      0.91      1502\n",
      "\n"
     ]
    }
   ],
   "source": [
    "# Bardziej zaawansowana analiza dopasowania - obiekt typu metrics względniający inne charakterystyki niż średnia\n",
    "from sklearn import metrics\n",
    "print(metrics.classification_report(twenty_test.target, predicted, target_names=twenty_test.target_names))\n"
   ]
  },
  {
   "cell_type": "code",
   "execution_count": 49,
   "metadata": {
    "collapsed": false
   },
   "outputs": [
    {
     "data": {
      "text/plain": [
       "array([[255,  11,  15,  38],\n",
       "       [  2, 379,   4,   4],\n",
       "       [  3,  33, 356,   4],\n",
       "       [  5,  10,   2, 381]])"
      ]
     },
     "execution_count": 49,
     "metadata": {},
     "output_type": "execute_result"
    }
   ],
   "source": []
  },
  {
   "cell_type": "code",
   "execution_count": null,
   "metadata": {
    "collapsed": true
   },
   "outputs": [],
   "source": []
  }
 ],
 "metadata": {
  "kernelspec": {
   "display_name": "Python 2",
   "language": "python",
   "name": "python2"
  },
  "language_info": {
   "codemirror_mode": {
    "name": "ipython",
    "version": 2
   },
   "file_extension": ".py",
   "mimetype": "text/x-python",
   "name": "python",
   "nbconvert_exporter": "python",
   "pygments_lexer": "ipython2",
   "version": "2.7.9"
  }
 },
 "nbformat": 4,
 "nbformat_minor": 0
}
