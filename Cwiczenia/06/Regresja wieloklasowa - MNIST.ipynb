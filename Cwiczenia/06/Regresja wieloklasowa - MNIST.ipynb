{
 "cells": [
  {
   "cell_type": "markdown",
   "metadata": {},
   "source": [
    "# Zadania"
   ]
  },
  {
   "cell_type": "markdown",
   "metadata": {},
   "source": [
    "Zadania dotyczą rozpoznawania obrazu, będziemy klasyfikować obrazki ręcznie zapisanych liczb. Zestaw danych, na którym będziemy pracować, to słynny MNIST (https://en.wikipedia.org/wiki/MNIST_database)\n",
    "\n",
    "Obrazki te wyglądają np. tak: <img src=\"http://pavel.surmenok.com/wp-content/uploads/2014/07/mnistdigits.gif\"/>. W bazie MNIST jest ich ok. 70.000 oznaczonych odpowiedznimi liczbami. Zadanie polega na identyfikacji liczby przedstawionej na jednym obrazku.\n",
    "\n",
    "## Przygotowania\n",
    "\n",
    "1. Proszę ściągnać sobie cztery pliki `*-images-idx3-ubyte.gz` ze strony http://yann.lecun.com/exdb/mnist/ i rozpakować (!) w tym samym katalogu, w którym znajduje się notebook. Na tej stronie przy okazji są podane wyniki dla niektórych metod. Z regresją logistyczną (`linear classifier`) powinniśmy ośiagnąc poprawność ok. 90%, czyli \"error rate\" ok. 10% dla całości danych.\n",
    "2. Za pomocą podanych funkcji `read` i `show` (znalazłem w internecie, nie trzeba się przejmować za bardzo ich treścią) wyświetlić proszę w postaci tablicy `numpy` oraz w postaći obrazka pierwsze dziesieć liczb. \n",
    "3. Stworzyć macierz dla danych trenujących, na początek dla pierwszych 1000 (`maxItems` w funkcji `toMatrix`, podanie `maxItems=60000` wczyta wszystkie dane). To samo dla danych testowych. \n",
    "4. Zastanowić się: ile cech ma każdy obrazek, czym są te cechy?\n",
    "\n",
    "## Regresja logistyczna\n",
    "\n",
    "5. Wykorzystując materiały z ostatniego wykładu, wytrenować model regresji logistycznej binarnej dla samych rozpoznający zera na danych trenujących. Jaką osiągniemy poprawność (accuracy)? (Uwaga, w algorytmie GD wybrać na początku mała liczbę kroków, np. 100, i powoli zwiększać).\n",
    "6. Na podstawie ostatnie wykładu, zbuduj model regresji logistycznej dla wszystkich liczb. Jaką osiągamy poprawność dla wszystkich klas?\n",
    "7. Spróbuj zwiększyć liczbę danych z 1000 na 10000 itd. Co się zaczyna dziać z algorytmem GD?\n",
    "8. Zaimplementuj algorytm Batch-SGD (Batch Stochastic Gradient Descent). Prowadzący wyjaśni na ćwiczeniach, na czym polega różnica do naszego zwykłego GD. \n",
    "9. Za pomocą Batch-SGD zbuduj model dla całosci danych trenujących. Jaki osiągamy wynik accuracy bawiąc się parametrami `alpha`, `maxSteps` i `batchSize`?"
   ]
  },
  {
   "cell_type": "code",
   "execution_count": 1,
   "metadata": {
    "collapsed": false
   },
   "outputs": [],
   "source": [
    "import os\n",
    "import struct\n",
    "import numpy as np\n",
    "\n",
    "%matplotlib inline\n",
    "\n",
    "def read(dataset = \"training\", path = \".\"):\n",
    "    \"\"\"\n",
    "    Python function for importing the MNIST data set.  It returns an iterator\n",
    "    of 2-tuples with the first element being the label and the second element\n",
    "    being a numpy.uint8 2D array of pixel data for the given image.\n",
    "    \"\"\"\n",
    "\n",
    "    if dataset is \"training\":\n",
    "        fname_img = os.path.join(path, 'train-images-idx3-ubyte')\n",
    "        fname_lbl = os.path.join(path, 'train-labels-idx1-ubyte')\n",
    "    elif dataset is \"testing\":\n",
    "        fname_img = os.path.join(path, 't10k-images-idx3-ubyte')\n",
    "        fname_lbl = os.path.join(path, 't10k-labels-idx1-ubyte')\n",
    "    else:\n",
    "        raise ValueError, \"dataset must be 'testing' or 'training'\"\n",
    "\n",
    "    # Load everything in some numpy arrays\n",
    "    with open(fname_lbl, 'rb') as flbl:\n",
    "        magic, num = struct.unpack(\">II\", flbl.read(8))\n",
    "        lbl = np.fromfile(flbl, dtype=np.int8)\n",
    "\n",
    "    with open(fname_img, 'rb') as fimg:\n",
    "        magic, num, rows, cols = struct.unpack(\">IIII\", fimg.read(16))\n",
    "        img = np.fromfile(fimg, dtype=np.uint8).reshape(len(lbl), rows, cols)\n",
    "\n",
    "    get_img = lambda idx: (lbl[idx], img[idx])\n",
    "\n",
    "    # Create an iterator which returns each image in turn\n",
    "    for i in xrange(len(lbl)):\n",
    "        yield get_img(i)\n",
    "\n",
    "def show(image):\n",
    "    \"\"\"\n",
    "    Render a given numpy.uint8 2D array of pixel data.\n",
    "    \"\"\"\n",
    "    from matplotlib import pyplot\n",
    "    import matplotlib as mpl\n",
    "    fig = pyplot.figure()\n",
    "    ax = fig.add_subplot(1,1,1)\n",
    "    imgplot = ax.imshow(image, cmap=mpl.cm.Greys)\n",
    "    imgplot.set_interpolation('nearest')\n",
    "    ax.xaxis.set_ticks_position('top')\n",
    "    ax.yaxis.set_ticks_position('left')\n",
    "    pyplot.show()"
   ]
  },
  {
   "cell_type": "code",
   "execution_count": 2,
   "metadata": {
    "collapsed": false
   },
   "outputs": [],
   "source": [
    "def toMatrix(data, maxItems=1000):\n",
    "    datalist = [t for t in data]\n",
    "    m = maxItems\n",
    "    n = 28 * 28 + 1\n",
    "    X = np.matrix(np.zeros(m * n)).reshape(m, n)\n",
    "    Y = np.matrix(np.zeros(m)).reshape(m, 1)\n",
    "    for i, (label, image) in enumerate(datalist[:m]):\n",
    "        X[i, 0] = 1 # bias term\n",
    "        X[i, 1:] = image.reshape(28*28,)\n",
    "        Y[i] = label\n",
    "    return X, Y"
   ]
  },
  {
   "cell_type": "code",
   "execution_count": null,
   "metadata": {
    "collapsed": false
   },
   "outputs": [],
   "source": []
  }
 ],
 "metadata": {
  "kernelspec": {
   "display_name": "Python 2",
   "language": "python",
   "name": "python2"
  },
  "language_info": {
   "codemirror_mode": {
    "name": "ipython",
    "version": 2
   },
   "file_extension": ".py",
   "mimetype": "text/x-python",
   "name": "python",
   "nbconvert_exporter": "python",
   "pygments_lexer": "ipython2",
   "version": "2.7.9"
  }
 },
 "nbformat": 4,
 "nbformat_minor": 0
}
